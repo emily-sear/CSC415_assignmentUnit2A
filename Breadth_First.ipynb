{
 "cells": [
  {
   "cell_type": "code",
   "execution_count": 17,
   "id": "e346e52b",
   "metadata": {},
   "outputs": [],
   "source": [
    "def breadthFirst(start, goal, graph):\n",
    "    openList = []\n",
    "    openList.append(start)\n",
    "    closedList = []\n",
    "    count = 0\n",
    "    \n",
    "    while(len(openList) != 0):\n",
    "        x = openList[0]\n",
    "        if(x == goal):\n",
    "            return \"Success- it took \" + str(count) + \" iterations to reach your goal\"\n",
    "        else:\n",
    "            closedList.append(x)\n",
    "            openList.remove(x)\n",
    "            for nodes in graph.edges[x]:\n",
    "                check = False\n",
    "                for closed in closedList:\n",
    "                    if(nodes == closed):\n",
    "                        check = True\n",
    "                if check == False:\n",
    "                    openList.append(nodes)\n",
    "        count += 1\n",
    "    return \"Goal not Found\""
   ]
  },
  {
   "cell_type": "code",
   "execution_count": 18,
   "id": "03590547",
   "metadata": {},
   "outputs": [],
   "source": [
    "from collections import defaultdict\n",
    "\n",
    "class Graph():\n",
    "    def __init__(self):\n",
    "        \"\"\"\n",
    "        self.edges is a dict of all possible next nodes\n",
    "        e.g. {'X': ['A', 'B', 'C', 'E'], ...}\n",
    "        self.weights has all the weights between two nodes,\n",
    "        with the two nodes as a tuple as the key\n",
    "        e.g. {('X', 'A'): 7, ('X', 'B'): 2, ...}\n",
    "        \"\"\"\n",
    "        self.edges = defaultdict(list)\n",
    "        self.weights = {}\n",
    "    \n",
    "    def add_edge(self, from_node, to_node, weight):\n",
    "        # Note: assumes edges are bi-directional\n",
    "        self.edges[from_node].append(to_node)\n",
    "        self.edges[to_node].append(from_node)\n",
    "        self.weights[(from_node, to_node)] = weight\n",
    "        self.weights[(to_node, from_node)] = weight"
   ]
  },
  {
   "cell_type": "code",
   "execution_count": 19,
   "id": "c63b51a9",
   "metadata": {},
   "outputs": [],
   "source": [
    "graph = Graph()"
   ]
  },
  {
   "cell_type": "code",
   "execution_count": 20,
   "id": "141b44f7",
   "metadata": {},
   "outputs": [],
   "source": [
    "edges = [\n",
    "    ('A', 'B', 4),\n",
    "    ('A', 'C', 11),\n",
    "    ('B', 'D', 15),\n",
    "    ('D', 'I', 12),\n",
    "    ('D', 'J', 10),\n",
    "    ('B', 'E', 12),\n",
    "    ('E', 'G', 18),\n",
    "    ('E', 'K', 16),\n",
    "    ('C', 'F', 4),\n",
    "    ('F', 'L', 6),\n",
    "    ('F', 'M', 3),\n",
    "    ('C', 'H', 3),\n",
    "    ('H', 'N', 8),\n",
    "    ('H', 'N', 7),\n",
    "]\n",
    "\n",
    "for edge in edges:\n",
    "    graph.add_edge(*edge)"
   ]
  },
  {
   "cell_type": "code",
   "execution_count": 21,
   "id": "a9a105fd",
   "metadata": {},
   "outputs": [
    {
     "name": "stdout",
     "output_type": "stream",
     "text": [
      "Success- it took 5 iterations to reach your goal\n"
     ]
    }
   ],
   "source": [
    "print(breadthFirst('A', 'F', graph))"
   ]
  },
  {
   "cell_type": "code",
   "execution_count": null,
   "id": "f4bc337e",
   "metadata": {},
   "outputs": [],
   "source": []
  }
 ],
 "metadata": {
  "kernelspec": {
   "display_name": "Python 3",
   "language": "python",
   "name": "python3"
  },
  "language_info": {
   "codemirror_mode": {
    "name": "ipython",
    "version": 3
   },
   "file_extension": ".py",
   "mimetype": "text/x-python",
   "name": "python",
   "nbconvert_exporter": "python",
   "pygments_lexer": "ipython3",
   "version": "3.8.8"
  }
 },
 "nbformat": 4,
 "nbformat_minor": 5
}
