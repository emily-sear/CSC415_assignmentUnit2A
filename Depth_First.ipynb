{
 "cells": [
  {
   "cell_type": "code",
   "execution_count": 47,
   "id": "21108989",
   "metadata": {},
   "outputs": [],
   "source": [
    "def depthFirst(start, goal, graph):\n",
    "    closedList = []\n",
    "    openList = []\n",
    "    openList.append(start)\n",
    "    count = 0\n",
    "    while(len(openList) != 0):\n",
    "        x = openList.pop()\n",
    "        if(x == goal):\n",
    "            return \"Success- it took \" + str(count) + \" iterations to reach your goal\"\n",
    "            break\n",
    "        else:\n",
    "            for nodes in graph.edges[x]:\n",
    "                check = False\n",
    "                for closed in closedList:\n",
    "                    if(nodes == closed):\n",
    "                        check = True\n",
    "                if check == False:\n",
    "                    openList.append(nodes)\n",
    "        closedList.append(x)\n",
    "        count += 1\n",
    "    return \"Goal not found.\"\n",
    "        \n",
    "            "
   ]
  },
  {
   "cell_type": "code",
   "execution_count": 48,
   "id": "a89deca4",
   "metadata": {},
   "outputs": [],
   "source": [
    "from collections import defaultdict\n",
    "\n",
    "class Graph():\n",
    "    def __init__(self):\n",
    "        \"\"\"\n",
    "        self.edges is a dict of all possible next nodes\n",
    "        e.g. {'X': ['A', 'B', 'C', 'E'], ...}\n",
    "        self.weights has all the weights between two nodes,\n",
    "        with the two nodes as a tuple as the key\n",
    "        e.g. {('X', 'A'): 7, ('X', 'B'): 2, ...}\n",
    "        \"\"\"\n",
    "        self.edges = defaultdict(list)\n",
    "        self.weights = {}\n",
    "    \n",
    "    def add_edge(self, from_node, to_node, weight):\n",
    "        # Note: assumes edges are bi-directional\n",
    "        self.edges[from_node].append(to_node)\n",
    "        self.edges[to_node].append(from_node)\n",
    "        self.weights[(from_node, to_node)] = weight\n",
    "        self.weights[(to_node, from_node)] = weight"
   ]
  },
  {
   "cell_type": "code",
   "execution_count": 49,
   "id": "3edabdbc",
   "metadata": {},
   "outputs": [],
   "source": [
    "graph = Graph()"
   ]
  },
  {
   "cell_type": "code",
   "execution_count": 50,
   "id": "628b4bb3",
   "metadata": {},
   "outputs": [],
   "source": [
    "edges = [\n",
    "    ('A', 'B', 4),\n",
    "    ('A', 'C', 11),\n",
    "    ('B', 'D', 15),\n",
    "    ('D', 'I', 12),\n",
    "    ('D', 'J', 10),\n",
    "    ('B', 'E', 12),\n",
    "    ('E', 'G', 18),\n",
    "    ('E', 'K', 16),\n",
    "    ('C', 'F', 4),\n",
    "    ('F', 'L', 6),\n",
    "    ('F', 'M', 3),\n",
    "    ('C', 'H', 3),\n",
    "    ('H', 'N', 8),\n",
    "    ('H', 'N', 7),\n",
    "]\n",
    "\n",
    "for edge in edges:\n",
    "    graph.add_edge(*edge)"
   ]
  },
  {
   "cell_type": "code",
   "execution_count": 51,
   "id": "33cb4406",
   "metadata": {},
   "outputs": [
    {
     "name": "stdout",
     "output_type": "stream",
     "text": [
      "Success- it took 5 iterations to reach your goal\n"
     ]
    }
   ],
   "source": [
    "print(depthFirst('A', 'F', graph))"
   ]
  },
  {
   "cell_type": "code",
   "execution_count": null,
   "id": "8280943b",
   "metadata": {},
   "outputs": [],
   "source": []
  }
 ],
 "metadata": {
  "kernelspec": {
   "display_name": "Python 3",
   "language": "python",
   "name": "python3"
  },
  "language_info": {
   "codemirror_mode": {
    "name": "ipython",
    "version": 3
   },
   "file_extension": ".py",
   "mimetype": "text/x-python",
   "name": "python",
   "nbconvert_exporter": "python",
   "pygments_lexer": "ipython3",
   "version": "3.8.8"
  }
 },
 "nbformat": 4,
 "nbformat_minor": 5
}
